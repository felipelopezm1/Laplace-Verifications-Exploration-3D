{
 "cells": [
  {
   "cell_type": "markdown",
   "id": "e5f1f3ee",
   "metadata": {},
   "source": [
    "# Laplace Transform — Three Visual Views (with GIFs)\n",
    "\n",
    "We explore three complementary views of the Laplace integral\n",
    "$$\\mathcal{L}\\{f\\}(s) = \\int_0^{\\infty} f(t) e^{-st} \\, dt, \\quad s=\\sigma+j\\omega.$$\n"
   ]
  },
  {
   "cell_type": "markdown",
   "id": "c41a3f59",
   "metadata": {},
   "source": [
    "## 1) Decay View: $e^{-\\sigma t}$\n",
    "\n",
    "This animation shows how increasing $\\sigma$ damps contributions from larger $t$.\n"
   ]
  },
  {
   "cell_type": "markdown",
   "id": "d59efaba",
   "metadata": {},
   "source": [
    "![Decay View](/mnt/data/laplace_view1_decay.gif)"
   ]
  },
  {
   "cell_type": "markdown",
   "id": "6dfac91b",
   "metadata": {},
   "source": [
    "## 2) Weighting & Accumulation\n",
    "\n",
    "Using $f(t)=\\sin(2\\pi t)u(t)$, we visualize $f(t)e^{-\\sigma t}$ and the **running integral** $\\int_0^T f(\\tau)e^{-\\sigma \\tau} d\\tau$.\n"
   ]
  },
  {
   "cell_type": "markdown",
   "id": "7c5e53b2",
   "metadata": {},
   "source": [
    "![Weighting & Accumulation](/mnt/data/laplace_view2_weighting.gif)"
   ]
  },
  {
   "cell_type": "markdown",
   "id": "5528b7ff",
   "metadata": {},
   "source": [
    "## 3) s-plane Sweep: $F(s)=\\frac{1}{s+1}$\n",
    "\n",
    "For $f(t)=e^{-t}u(t)$, $F(s)=\\frac{1}{s+1}$ with ROC $\\operatorname{Re}(s)>-1$. We sweep $\\sigma$ and plot $|F(\\sigma+j\\omega)|$ vs $\\omega$.\n"
   ]
  },
  {
   "cell_type": "markdown",
   "id": "df74cf88",
   "metadata": {},
   "source": [
    "![s-plane Sweep](/mnt/data/laplace_view3_splane.gif)"
   ]
  }
 ],
 "metadata": {},
 "nbformat": 4,
 "nbformat_minor": 5
}
